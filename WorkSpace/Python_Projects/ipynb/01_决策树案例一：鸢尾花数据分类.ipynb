{
 "cells": [
  {
   "cell_type": "code",
   "execution_count": 1,
   "metadata": {
    "collapsed": false
   },
   "outputs": [
    {
     "name": "stderr",
     "output_type": "stream",
     "text": [
      "C:\\Anaconda2\\lib\\site-packages\\sklearn\\cross_validation.py:44: DeprecationWarning: This module was deprecated in version 0.18 in favor of the model_selection module into which all the refactored classes and functions are moved. Also note that the interface of the new CV iterators are different from that of this module. This module will be removed in 0.20.\n",
      "  \"This module will be removed in 0.20.\", DeprecationWarning)\n",
      "C:\\Anaconda2\\lib\\site-packages\\sklearn\\grid_search.py:43: DeprecationWarning: This module was deprecated in version 0.18 in favor of the model_selection module into which all the refactored classes and functions are moved. This module will be removed in 0.20.\n",
      "  DeprecationWarning)\n"
     ]
    }
   ],
   "source": [
    "import numpy as np\n",
    "import pandas as pd\n",
    "import matplotlib.pyplot as plt\n",
    "import matplotlib as mpl\n",
    "from sklearn import tree\n",
    "from sklearn.tree import DecisionTreeClassifier\n",
    "from sklearn.cross_validation import train_test_split\n",
    "from sklearn.pipeline import Pipeline\n",
    "from sklearn.feature_selection import SelectKBest\n",
    "from sklearn.feature_selection import chi2\n",
    "from sklearn.preprocessing import MinMaxScaler\n",
    "from sklearn.decomposition import PCA\n",
    "from sklearn.pipeline import Pipeline\n",
    "from sklearn.grid_search import GridSearchCV"
   ]
  },
  {
   "cell_type": "code",
   "execution_count": 2,
   "metadata": {
    "collapsed": true
   },
   "outputs": [],
   "source": [
    "## 设置属性防止中文乱码\n",
    "mpl.rcParams['font.sans-serif'] = [u'SimHei']\n",
    "mpl.rcParams['axes.unicode_minus'] = False"
   ]
  },
  {
   "cell_type": "code",
   "execution_count": 3,
   "metadata": {
    "collapsed": true
   },
   "outputs": [],
   "source": [
    "# 花萼长度、花萼宽度，花瓣长度，花瓣宽度\n",
    "iris_feature_E = 'sepal length', 'sepal width', 'petal length', 'petal width'\n",
    "iris_feature_C = u'花萼长度', u'花萼宽度', u'花瓣长度', u'花瓣宽度'\n",
    "iris_class = 'Iris-setosa', 'Iris-versicolor', 'Iris-virginica'"
   ]
  },
  {
   "cell_type": "code",
   "execution_count": 4,
   "metadata": {
    "collapsed": false
   },
   "outputs": [
    {
     "name": "stdout",
     "output_type": "stream",
     "text": [
      "总样本数目：150；特征属性数目：4\n"
     ]
    }
   ],
   "source": [
    "## 读取数据\n",
    "path = './datas/iris.data'  # 数据文件路径\n",
    "data = pd.read_csv(path, header=None)\n",
    "x = data[range(4)]\n",
    "y = pd.Categorical(data[4]).codes ## 直接将数据特征转换为0，1,2\n",
    "print \"总样本数目：%d；特征属性数目：%d\" % x.shape"
   ]
  },
  {
   "cell_type": "code",
   "execution_count": 5,
   "metadata": {
    "collapsed": false,
    "scrolled": true
   },
   "outputs": [
    {
     "name": "stdout",
     "output_type": "stream",
     "text": [
      "训练数据集样本数目：120, 测试数据集样本数目：30\n"
     ]
    }
   ],
   "source": [
    "## 0. 数据分割，形成模型训练数据和测试数据\n",
    "x_train1, x_test1, y_train1, y_test1 = train_test_split(x, y, train_size=0.8, random_state=14)\n",
    "x_train, x_test, y_train, y_test = x_train1, x_test1, y_train1, y_test1\n",
    "print \"训练数据集样本数目：%d, 测试数据集样本数目：%d\" % (x_train.shape[0], x_test.shape[0])"
   ]
  },
  {
   "cell_type": "code",
   "execution_count": 6,
   "metadata": {
    "collapsed": false
   },
   "outputs": [],
   "source": [
    "## 2. 数据量化/归一化,常用方式：\n",
    "## a. 模型创建\n",
    "ss = MinMaxScaler()\n",
    "## b. 模型训练及数据转换\n",
    "x_train = ss.fit_transform(x_train, y_train)\n",
    "x_test = ss.transform(x_test)"
   ]
  },
  {
   "cell_type": "code",
   "execution_count": 7,
   "metadata": {
    "collapsed": false
   },
   "outputs": [
    {
     "name": "stdout",
     "output_type": "stream",
     "text": [
      "对类别判断影响最大的三个特征属性分布是: [ True False  True  True]\n"
     ]
    }
   ],
   "source": [
    "## 3. 特征选择\n",
    "## a. 模型构建\n",
    "ch2 = SelectKBest(chi2, k=3)\n",
    "## b. 模型训练及数据转换\n",
    "x_train = ch2.fit_transform(x_train, y_train)\n",
    "x_test = ch2.transform(x_test)\n",
    "## c. 输出模型最终选择的列\n",
    "select_name_index = ch2.get_support(indices=True)\n",
    "print \"对类别判断影响最大的三个特征属性分布是:\", ch2.get_support(indices=False)"
   ]
  },
  {
   "cell_type": "code",
   "execution_count": 8,
   "metadata": {
    "collapsed": false
   },
   "outputs": [],
   "source": [
    "## 4. 降维\n",
    "## a. 构建一个PCA对象，设置最终维度为两维\n",
    "pca = PCA(n_components=2)\n",
    "## b. 训练模型及数据\n",
    "x_train = pca.fit_transform(x_train)\n",
    "x_test = pca.transform(x_test)"
   ]
  },
  {
   "cell_type": "code",
   "execution_count": 9,
   "metadata": {
    "collapsed": true
   },
   "outputs": [],
   "source": [
    "## 5. 模型构建及训练 \n",
    "## a. 模型构建\n",
    "model = DecisionTreeClassifier(criterion='entropy')\n",
    "## b. 模型训练\n",
    "model.fit(x_train, y_train)\n",
    "## c. 模型预测\n",
    "y_test_hat = model.predict(x_test) "
   ]
  },
  {
   "cell_type": "code",
   "execution_count": 17,
   "metadata": {
    "collapsed": true
   },
   "outputs": [],
   "source": [
    "y1= model.predict_proba(x_test)"
   ]
  },
  {
   "cell_type": "code",
   "execution_count": 19,
   "metadata": {
    "collapsed": false
   },
   "outputs": [
    {
     "data": {
      "text/plain": [
       "array([0, 0, 0, 1, 2, 1, 0, 1, 0, 1, 1, 0, 2, 2, 0, 1, 0, 2, 2, 1, 0, 0, 0,\n",
       "       1, 0, 2, 0, 1, 1, 0], dtype=int8)"
      ]
     },
     "execution_count": 19,
     "metadata": {},
     "output_type": "execute_result"
    }
   ],
   "source": [
    "y_test_hat"
   ]
  },
  {
   "cell_type": "code",
   "execution_count": 18,
   "metadata": {
    "collapsed": false
   },
   "outputs": [
    {
     "data": {
      "text/plain": [
       "array([[ 1.,  0.,  0.],\n",
       "       [ 1.,  0.,  0.],\n",
       "       [ 1.,  0.,  0.],\n",
       "       [ 0.,  1.,  0.],\n",
       "       [ 0.,  0.,  1.],\n",
       "       [ 0.,  1.,  0.],\n",
       "       [ 1.,  0.,  0.],\n",
       "       [ 0.,  1.,  0.],\n",
       "       [ 1.,  0.,  0.],\n",
       "       [ 0.,  1.,  0.],\n",
       "       [ 0.,  1.,  0.],\n",
       "       [ 1.,  0.,  0.],\n",
       "       [ 0.,  0.,  1.],\n",
       "       [ 0.,  0.,  1.],\n",
       "       [ 1.,  0.,  0.],\n",
       "       [ 0.,  1.,  0.],\n",
       "       [ 1.,  0.,  0.],\n",
       "       [ 0.,  0.,  1.],\n",
       "       [ 0.,  0.,  1.],\n",
       "       [ 0.,  1.,  0.],\n",
       "       [ 1.,  0.,  0.],\n",
       "       [ 1.,  0.,  0.],\n",
       "       [ 1.,  0.,  0.],\n",
       "       [ 0.,  1.,  0.],\n",
       "       [ 1.,  0.,  0.],\n",
       "       [ 0.,  0.,  1.],\n",
       "       [ 1.,  0.,  0.],\n",
       "       [ 0.,  1.,  0.],\n",
       "       [ 0.,  1.,  0.],\n",
       "       [ 1.,  0.,  0.]])"
      ]
     },
     "execution_count": 18,
     "metadata": {},
     "output_type": "execute_result"
    }
   ],
   "source": [
    "y1"
   ]
  },
  {
   "cell_type": "code",
   "execution_count": 10,
   "metadata": {
    "collapsed": true
   },
   "outputs": [],
   "source": [
    "from sklearn.externals.six import StringIO\n",
    "with open(\"iris.dot\", 'w') as f:\n",
    "    f = tree.export_graphviz(model, out_file=f)"
   ]
  },
  {
   "cell_type": "code",
   "execution_count": 11,
   "metadata": {
    "collapsed": false
   },
   "outputs": [
    {
     "name": "stdout",
     "output_type": "stream",
     "text": [
      "准确率:96.67%\n",
      "Score： 0.966666666667\n",
      "Classes: [0 1 2]\n"
     ]
    }
   ],
   "source": [
    "## 6. 效果评估\n",
    "## 准确率：预测对的占总的比率\n",
    "y_test2 = y_test.reshape(-1)\n",
    "result = (y_test2 == y_test_hat)\n",
    "print \"准确率:%.2f%%\" % (np.mean(result) * 100)\n",
    "## 实际可用通过参数获取\n",
    "print \"Score：\", model.score(x_test, y_test)\n",
    "print \"Classes:\", model.classes_"
   ]
  },
  {
   "cell_type": "code",
   "execution_count": 12,
   "metadata": {
    "collapsed": false
   },
   "outputs": [
    {
     "name": "stdout",
     "output_type": "stream",
     "text": [
      "(100L, 100L)\n"
     ]
    },
    {
     "data": {
      "text/plain": [
       "array([0, 0, 0, 0, 0, 0, 0, 0, 0, 0, 0, 0, 0, 0, 0, 0, 0, 0, 0, 0, 0, 0, 0,\n",
       "       0, 0, 0, 1, 1, 1, 1, 1, 1, 1, 1, 1, 1, 1, 1, 1, 1, 1, 1, 1, 1, 1, 1,\n",
       "       1, 1, 1, 1, 1, 1, 1, 1, 1, 1, 1, 1, 1, 1, 1, 1, 1, 1, 1, 1, 1, 1, 1,\n",
       "       1, 2, 2, 2, 2, 2, 2, 2, 2, 2, 2, 2, 2, 2, 2, 2, 2, 2, 2, 2, 2, 2, 2,\n",
       "       2, 2, 2, 2, 2, 2, 2, 2], dtype=int8)"
      ]
     },
     "execution_count": 12,
     "metadata": {},
     "output_type": "execute_result"
    }
   ],
   "source": [
    "## 7. 画图1: 创建线性模拟数据及预测值\n",
    "N = 100  \n",
    "x1_min = np.min((x_train.T[0].min(), x_test.T[0].min()))\n",
    "x1_max = np.max((x_train.T[0].max(), x_test.T[0].max()))\n",
    "x2_min = np.min((x_train.T[1].min(), x_test.T[1].min()))\n",
    "x2_max = np.max((x_train.T[1].max(), x_test.T[1].max()))\n",
    "\n",
    "t1 = np.linspace(x1_min, x1_max, N)\n",
    "t2 = np.linspace(x2_min, x2_max, N)\n",
    "x1, x2 = np.meshgrid(t1, t2)  # 生成网格采样点\n",
    "x_show = np.dstack((x1.flat, x2.flat))[0] # 测试点\n",
    "\n",
    "y_show_hat = model.predict(x_show)  # 预测值\n",
    "\n",
    "y_show_hat = y_show_hat.reshape(x1.shape)  # 使之与输入的形状相同\n",
    "print y_show_hat.shape\n",
    "y_show_hat[0]"
   ]
  },
  {
   "cell_type": "code",
   "execution_count": 13,
   "metadata": {
    "collapsed": false
   },
   "outputs": [
    {
     "data": {
      "image/png": "[encoded data removed]",
      "text/plain": [
       "<matplotlib.figure.Figure at 0xb765550>"
      ]
     },
     "metadata": {},
     "output_type": "display_data"
    }
   ],
   "source": [
    "## 7. 画图2：画图\n",
    "plt_light = mpl.colors.ListedColormap(['#A0FFA0', '#FFA0A0', '#A0A0FF'])\n",
    "plt_dark = mpl.colors.ListedColormap(['g', 'r', 'b'])\n",
    "\n",
    "plt.figure(facecolor='w')\n",
    "plt.pcolormesh(x1, x2, y_show_hat, cmap=plt_light)  # 预测值的显示（区域的显示）\n",
    "plt.scatter(x_test.T[0], x_test.T[1], c=y_test.ravel(), edgecolors='k', s=150, zorder=10, cmap=plt_dark, marker='*')  # 测试数据\n",
    "plt.scatter(x_train.T[0], x_train.T[1], c=y_train.ravel(), edgecolors='k', s=40, cmap=plt_dark)  # 全部数据\n",
    "plt.xlabel(u'特征属性1', fontsize=15)\n",
    "plt.ylabel(u'特征属性2', fontsize=15)\n",
    "plt.xlim(x1_min, x1_max)\n",
    "plt.ylim(x2_min, x2_max)\n",
    "plt.grid(True)\n",
    "plt.title(u'鸢尾花数据的决策树分类', fontsize=18)\n",
    "plt.show()"
   ]
  },
  {
   "cell_type": "code",
   "execution_count": 14,
   "metadata": {
    "collapsed": false
   },
   "outputs": [
    {
     "name": "stderr",
     "output_type": "stream",
     "text": [
      "C:\\Anaconda2\\lib\\site-packages\\sklearn\\decomposition\\pca.py:418: VisibleDeprecationWarning: using a non-integer number instead of an integer will result in an error in the future\n",
      "  self.components_ = components_[:n_components]\n",
      "C:\\Anaconda2\\lib\\site-packages\\sklearn\\decomposition\\pca.py:420: VisibleDeprecationWarning: using a non-integer number instead of an integer will result in an error in the future\n",
      "  self.explained_variance_ = explained_variance_[:n_components]\n",
      "C:\\Anaconda2\\lib\\site-packages\\sklearn\\decomposition\\pca.py:422: VisibleDeprecationWarning: using a non-integer number instead of an integer will result in an error in the future\n",
      "  explained_variance_ratio_[:n_components]\n",
      "C:\\Anaconda2\\lib\\site-packages\\sklearn\\decomposition\\pca.py:325: VisibleDeprecationWarning: using a non-integer number instead of an integer will result in an error in the future\n",
      "  U = U[:, :self.n_components_]\n",
      "C:\\Anaconda2\\lib\\site-packages\\sklearn\\decomposition\\pca.py:332: VisibleDeprecationWarning: using a non-integer number instead of an integer will result in an error in the future\n",
      "  U *= S[:self.n_components_]\n",
      "C:\\Anaconda2\\lib\\site-packages\\sklearn\\decomposition\\pca.py:413: VisibleDeprecationWarning: using a non-integer number instead of an integer will result in an error in the future\n",
      "  self.noise_variance_ = explained_variance_[n_components:].mean()\n"
     ]
    },
    {
     "name": "stdout",
     "output_type": "stream",
     "text": [
      "最优参数列表: {'decision__criterion': 'gini', 'decision__max_depth': 2, 'pca__n_components': 0.5, 'skb__k': 2}\n",
      "score值： 0.933333333333\n"
     ]
    }
   ],
   "source": [
    "## 8. 参数优化\n",
    "pipe = Pipeline([\n",
    "            ('mms', MinMaxScaler()),\n",
    "            ('skb', SelectKBest(chi2)),\n",
    "            ('pca', PCA()),\n",
    "            ('decision', DecisionTreeClassifier())\n",
    "        ])\n",
    "\n",
    "# 参数\n",
    "parameters = {\n",
    "    \"skb__k\": [1,2,3,4],\n",
    "    \"pca__n_components\": [0.5,1.0],\n",
    "    \"decision__criterion\": [\"gini\", \"entropy\"],\n",
    "    \"decision__max_depth\": [1,2,3,4,5,6,7,8,9,10,11,12,13,14,15]\n",
    "}\n",
    "\n",
    "x_train2, x_test2, y_train2, y_test2 = x_train1, x_test1, y_train1, y_test1\n",
    "\n",
    "## 模型创建\n",
    "gscv = GridSearchCV(pipe, param_grid=parameters)\n",
    "## 模型训练\n",
    "gscv.fit(x_train2, y_train2)\n",
    "\n",
    "## 算法最优解\n",
    "print \"最优参数列表:\", gscv.best_params_\n",
    "print \"score值：\",gscv.best_score_\n",
    "\n",
    "## 预测值\n",
    "y_test_hat2 = gscv.predict(x_test2)"
   ]
  },
  {
   "cell_type": "code",
   "execution_count": 15,
   "metadata": {
    "collapsed": false,
    "scrolled": false
   },
   "outputs": [
    {
     "name": "stdout",
     "output_type": "stream",
     "text": [
      "正确率: 1.0\n"
     ]
    }
   ],
   "source": [
    "## 使用最优参数看看正确率\n",
    "mms_best = MinMaxScaler()\n",
    "skb_best = SelectKBest(chi2, k=2)\n",
    "pca_best = PCA(n_components=0.5)\n",
    "decision3 = DecisionTreeClassifier(criterion='gini', max_depth=2)\n",
    "\n",
    "x_train3, x_test3, y_train3, y_test3 = x_train1, x_test1, y_train1, y_test1\n",
    "x_train3 = pca_best.fit_transform(skb_best.fit_transform(mms_best.fit_transform(x_train3, y_train3), y_train3))\n",
    "x_test3 = pca_best.transform(skb_best.transform(mms_best.transform(x_test3)))\n",
    "decision3.fit(x_train3, y_train3)\n",
    "\n",
    "print \"正确率:\", decision3.score(x_test3, y_test3)"
   ]
  },
  {
   "cell_type": "code",
   "execution_count": 16,
   "metadata": {
    "collapsed": false
   },
   "outputs": [
    {
     "name": "stdout",
     "output_type": "stream",
     "text": [
      "1深度，正确率0.55556\n",
      "2深度，正确率0.73333\n",
      "3深度，正确率0.77778\n",
      "4深度，正确率0.73333\n",
      "5深度，正确率0.68889\n",
      "6深度，正确率0.68889\n",
      "7深度，正确率0.68889\n",
      "8深度，正确率0.66667\n",
      "9深度，正确率0.66667\n",
      "10深度，正确率0.66667\n",
      "11深度，正确率0.66667\n",
      "12深度，正确率0.66667\n",
      "13深度，正确率0.66667\n",
      "14深度，正确率0.66667\n"
     ]
    },
    {
     "data": {
      "image/png": "[encoded data removed]",
      "text/plain": [
       "<matplotlib.figure.Figure at 0xb8a35c0>"
      ]
     },
     "metadata": {},
     "output_type": "display_data"
    }
   ],
   "source": [
    "## 基于原始数据前三列比较一下决策树在不同数深度的情况下的错误率(不进行预处理的原因是，预处理后，效果会非常好)\n",
    "x_train4, x_test4, y_train4, y_test4 = train_test_split(x.iloc[:, :2], y, train_size=0.7, random_state=14)\n",
    "\n",
    "depths = np.arange(1, 15)\n",
    "err_list = []\n",
    "for d in depths:\n",
    "    clf = DecisionTreeClassifier(criterion='gini', max_depth=d)\n",
    "    clf.fit(x_train4, y_train4)\n",
    "    \n",
    "    score = clf.score(x_test4, y_test4)\n",
    "    err = 1 - score\n",
    "    err_list.append(err)\n",
    "    print \"%d深度，正确率%.5f\" % (d, score)\n",
    "\n",
    "## 画图\n",
    "plt.figure(facecolor='w')\n",
    "plt.plot(depths, err_list, 'ro-', lw=3)\n",
    "plt.xlabel(u'决策树深度', fontsize=16)\n",
    "plt.ylabel(u'错误率', fontsize=16)\n",
    "plt.grid(True)\n",
    "plt.title(u'决策树层次太多导致的拟合问题(欠拟合和过拟合)', fontsize=18)\n",
    "plt.show()"
   ]
  },
  {
   "cell_type": "code",
   "execution_count": null,
   "metadata": {
    "collapsed": true
   },
   "outputs": [],
   "source": []
  }
 ],
 "metadata": {
  "kernelspec": {
   "display_name": "Python 2",
   "language": "python",
   "name": "python2"
  },
  "language_info": {
   "codemirror_mode": {
    "name": "ipython",
    "version": 2
   },
   "file_extension": ".py",
   "mimetype": "text/x-python",
   "name": "python",
   "nbconvert_exporter": "python",
   "pygments_lexer": "ipython2",
   "version": "2.7.13"
  }
 },
 "nbformat": 4,
 "nbformat_minor": 0
}
