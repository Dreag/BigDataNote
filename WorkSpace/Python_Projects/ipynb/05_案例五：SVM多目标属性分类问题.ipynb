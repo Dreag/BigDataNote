{
 "cells": [
  {
   "cell_type": "code",
   "execution_count": 141,
   "metadata": {
    "collapsed": true
   },
   "outputs": [],
   "source": [
    "import time\n",
    "import numpy as np\n",
    "import pandas as pd\n",
    "import matplotlib as mpl\n",
    "import matplotlib.pyplot as plt\n",
    "\n",
    "from sklearn.datasets import make_multilabel_classification\n",
    "from sklearn.multiclass import OneVsRestClassifier\n",
    "from sklearn.svm import SVC\n",
    "from sklearn.preprocessing import LabelBinarizer\n",
    "from sklearn.decomposition import PCA\n",
    "from sklearn.cross_decomposition import CCA"
   ]
  },
  {
   "cell_type": "code",
   "execution_count": 142,
   "metadata": {
    "collapsed": true
   },
   "outputs": [],
   "source": [
    "mpl.rcParams['font.sans-serif'] = [u'SimHei']\n",
    "mpl.rcParams['axes.unicode_minus'] = False"
   ]
  },
  {
   "cell_type": "code",
   "execution_count": 143,
   "metadata": {
    "collapsed": true
   },
   "outputs": [],
   "source": [
    "def plot_hyperplane(clf, min_x, max_x, linestyle, label):\n",
    "    w = clf.coef_[0]\n",
    "    a = -w[0] / w[1]\n",
    "    xx = np.linspace(min_x - 5, max_x + 5)\n",
    "    yy = a * xx - (clf.intercept_[0]) / w[1]\n",
    "    plt.plot(xx, yy, linestyle, label=label)"
   ]
  },
  {
   "cell_type": "code",
   "execution_count": 144,
   "metadata": {
    "collapsed": true
   },
   "outputs": [],
   "source": [
    "def plot_subfigure(X, Y, subplot, title, transform):\n",
    "    if transform == \"pca\":\n",
    "        X = PCA(n_components=2).fit_transform(X)\n",
    "    elif transform == \"cca\":\n",
    "        X = CCA(n_components=2).fit(X, Y).transform(X)\n",
    "    else:\n",
    "        raise ValueError\n",
    "\n",
    "    min_x = np.min(X[:, 0])\n",
    "    max_x = np.max(X[:, 0])\n",
    "    min_y = np.min(X[:, 1])\n",
    "    max_y = np.max(X[:, 1])\n",
    "    classif = OneVsRestClassifier(SVC(kernel='linear'))\n",
    "    classif.fit(X, Y)\n",
    " \n",
    "    print title,\"准确率:\", classif.score(X, Y)\n",
    "\n",
    "    ## 画图\n",
    "    plt.subplot(2, 2, subplot)\n",
    "    plt.title(title)\n",
    "\n",
    "    zero_class = np.where(Y[:, 0])\n",
    "    one_class = np.where(Y[:, 1])\n",
    "    plt.scatter(X[:, 0], X[:, 1], s=40, c='gray')\n",
    "    plt.scatter(X[zero_class, 0], X[zero_class, 1], s=160, edgecolors='b',\n",
    "               facecolors='none', linewidths=2, label=u'类别1')\n",
    "    plt.scatter(X[one_class, 0], X[one_class, 1], s=80, edgecolors='orange',\n",
    "               facecolors='none', linewidths=2, label=u'类别2')\n",
    "    plot_hyperplane(classif.estimators_[0], min_x, max_x, 'k--', u'类别1边界')\n",
    "    plot_hyperplane(classif.estimators_[1], min_x, max_x, 'r-.', u'类别2边界')\n",
    "    \n",
    "    plt.xticks(())\n",
    "    plt.yticks(())\n",
    "    plt.xlim(min_x - .5 * max_x, max_x + .5 * max_x)\n",
    "    plt.ylim(min_y - .5 * max_y, max_y + .5 * max_y)\n",
    "    if subplot == 4:\n",
    "        plt.xlabel(u'第一主成分析')\n",
    "        plt.ylabel(u'第二主成分析')\n",
    "        plt.legend(loc=\"lower right\")"
   ]
  },
  {
   "cell_type": "code",
   "execution_count": 145,
   "metadata": {
    "collapsed": false
   },
   "outputs": [
    {
     "name": "stdout",
     "output_type": "stream",
     "text": [
      "包含不确定类别样本数据 + CCA 准确率: 0.9\n",
      "包含不确定类别样本数据 + PCA 准确率: 0.74\n",
      "不包含不确定类别样本数据 + CCA 准确率: 0.98\n",
      "不包含不确定类别样本数据 + PCA 准确率: 0.94\n"
     ]
    }
   ],
   "source": [
    "plt.figure(figsize=(12, 7), facecolor='w')\n",
    "\n",
    "X, Y = make_multilabel_classification(n_samples=100, n_features=30,\n",
    "                                      n_classes=2, n_labels=2,\n",
    "                                      allow_unlabeled=True,\n",
    "                                      return_indicator=True,\n",
    "                                      random_state=28)\n",
    "\n",
    "plot_subfigure(X, Y, 1, u\"包含不确定类别样本数据 + CCA\", \"cca\")\n",
    "plot_subfigure(X, Y, 2, u\"包含不确定类别样本数据 + PCA\", \"pca\")\n",
    "\n",
    "X, Y = make_multilabel_classification(n_samples=100,  n_features=30,\n",
    "                                      n_classes=2, n_labels=2,\n",
    "                                      allow_unlabeled=False,\n",
    "                                      return_indicator=True,\n",
    "                                      random_state=28)\n",
    "\n",
    "plot_subfigure(X, Y, 3, u\"不包含不确定类别样本数据 + CCA\", \"cca\")\n",
    "plot_subfigure(X, Y, 4, u\"不包含不确定类别样本数据 + PCA\", \"pca\")\n",
    "\n",
    "plt.subplots_adjust(.04, .02, .97, .94, .09, .2)\n",
    "plt.show()"
   ]
  },
  {
   "cell_type": "code",
   "execution_count": null,
   "metadata": {
    "collapsed": true
   },
   "outputs": [],
   "source": []
  }
 ],
 "metadata": {
  "kernelspec": {
   "display_name": "Python 2",
   "language": "python",
   "name": "python2"
  },
  "language_info": {
   "codemirror_mode": {
    "name": "ipython",
    "version": 2
   },
   "file_extension": ".py",
   "mimetype": "text/x-python",
   "name": "python",
   "nbconvert_exporter": "python",
   "pygments_lexer": "ipython2",
   "version": "2.7.13"
  }
 },
 "nbformat": 4,
 "nbformat_minor": 0
}
