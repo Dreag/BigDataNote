{
 "cells": [
  {
   "cell_type": "code",
   "execution_count": 13,
   "metadata": {
    "collapsed": false
   },
   "outputs": [],
   "source": [
    "import numpy as np\n",
    "from time import time\n",
    "import matplotlib.pyplot as plt\n",
    "import matplotlib as mpl\n",
    "\n",
    "from sklearn.datasets import fetch_20newsgroups\n",
    "from sklearn.feature_extraction.text import TfidfVectorizer\n",
    "from sklearn.feature_selection import SelectKBest, chi2\n",
    "from sklearn.linear_model import RidgeClassifier\n",
    "from sklearn.svm import LinearSVC,SVC\n",
    "from sklearn.naive_bayes import MultinomialNB, BernoulliNB\n",
    "from sklearn.neighbors import KNeighborsClassifier\n",
    "from sklearn.ensemble import RandomForestClassifier\n",
    "from sklearn.grid_search import GridSearchCV\n",
    "from sklearn import metrics"
   ]
  },
  {
   "cell_type": "code",
   "execution_count": 14,
   "metadata": {
    "collapsed": true
   },
   "outputs": [],
   "source": [
    "def benchmark(clf,name):\n",
    "    print u'分类器：', clf\n",
    "        \n",
    "    alpha_can = np.logspace(-2, 1, 10)\n",
    "    model = GridSearchCV(clf, param_grid={'alpha': alpha_can}, cv=5)\n",
    "    m = alpha_can.size\n",
    "       \n",
    "    if hasattr(clf, 'alpha'):\n",
    "        model.set_params(param_grid={'alpha': alpha_can})\n",
    "        m = alpha_can.size\n",
    "    \n",
    "    if hasattr(clf, 'n_neighbors'):\n",
    "        neighbors_can = np.arange(1, 15)\n",
    "        model.set_params(param_grid={'n_neighbors': neighbors_can})\n",
    "        m = neighbors_can.size\n",
    "    \n",
    "    if hasattr(clf, 'C'):\n",
    "        C_can = np.logspace(1, 3, 3)\n",
    "        model.set_params(param_grid={'C':C_can})\n",
    "        m = C_can.size\n",
    "    \n",
    "    if hasattr(clf, 'C') & hasattr(clf, 'gamma'):\n",
    "        C_can = np.logspace(1, 3, 3)\n",
    "        gamma_can = np.logspace(-3, 0, 3)\n",
    "        model.set_params(param_grid={'C':C_can, 'gamma':gamma_can})\n",
    "        m = C_can.size * gamma_can.size\n",
    "    \n",
    "    if hasattr(clf, 'max_depth'):\n",
    "        max_depth_can = np.arange(4, 10)\n",
    "        model.set_params(param_grid={'max_depth': max_depth_can})\n",
    "        m = max_depth_can.size\n",
    "    \n",
    "    \n",
    "    t_start = time()\n",
    "    model.fit(x_train, y_train)\n",
    "    t_end = time()\n",
    "    t_train = (t_end - t_start) / (5*m)\n",
    "    print u'5折交叉验证的训练时间为：%.3f秒/(5*%d)=%.3f秒' % ((t_end - t_start), m, t_train)\n",
    "    print u'最优超参数为：', model.best_params_\n",
    "    \n",
    "    \n",
    "    t_start = time()\n",
    "    y_hat = model.predict(x_test)\n",
    "    t_end = time()\n",
    "    t_test = t_end - t_start\n",
    "    print u'测试时间：%.3f秒' % t_test\n",
    "    \n",
    "    \n",
    "    train_acc = metrics.accuracy_score(y_train, model.predict(x_train))\n",
    "    test_acc = metrics.accuracy_score(y_test, y_hat)\n",
    "    print u'训练集准确率：%.2f%%' % (100 * train_acc)\n",
    "    print u'测试集准确率：%.2f%%' % (100 * test_acc)\n",
    "    \n",
    "    \n",
    "    return t_train, t_test, 1-train_acc, 1-test_acc, name"
   ]
  },
  {
   "cell_type": "code",
   "execution_count": 15,
   "metadata": {
    "collapsed": true
   },
   "outputs": [],
   "source": [
    "mpl.rcParams['font.sans-serif'] = [u'SimHei']\n",
    "mpl.rcParams['axes.unicode_minus'] = False"
   ]
  },
  {
   "cell_type": "code",
   "execution_count": 16,
   "metadata": {
    "collapsed": false
   },
   "outputs": [
    {
     "name": "stdout",
     "output_type": "stream",
     "text": [
      "开始下载/加载数据...\n",
      "完成数据加载过程.耗时:4.719s\n"
     ]
    }
   ],
   "source": [
    "print u'开始下载/加载数据...'\n",
    "t_start = time()\n",
    "remove = ('headers', 'footers', 'quotes')\n",
    "categories = 'alt.atheism', 'talk.religion.misc', 'comp.graphics', 'sci.space'\n",
    "\n",
    "data_train = fetch_20newsgroups(data_home='./datas/',subset='train', categories=categories, shuffle=True, random_state=0, remove=remove)\n",
    "data_test = fetch_20newsgroups(data_home='./datas/',subset='test', categories=categories, shuffle=True, random_state=0, remove=remove)\n",
    "\n",
    "print u\"完成数据加载过程.耗时:%.3fs\" % (time() - t_start)"
   ]
  },
  {
   "cell_type": "code",
   "execution_count": 17,
   "metadata": {
    "collapsed": false
   },
   "outputs": [
    {
     "name": "stdout",
     "output_type": "stream",
     "text": [
      "数据类型： <class 'sklearn.datasets.base.Bunch'>\n",
      "2034文本数量 - 2.428MB (训练数据集)\n",
      "1353文本数量 - 1.800MB (测试数据集)\n",
      "训练集和测试集使用的4个类别的名称：\n",
      "['alt.atheism', 'comp.graphics', 'sci.space', 'talk.religion.misc']\n"
     ]
    }
   ],
   "source": [
    "def size_mb(docs):\n",
    "    return sum(len(s.encode('utf-8')) for s in docs) / 1e6\n",
    "\n",
    "categories = data_train.target_names\n",
    "data_train_size_mb = size_mb(data_train.data)\n",
    "data_test_size_mb = size_mb(data_test.data)\n",
    "\n",
    "print u'数据类型：', type(data_train)\n",
    "print(\"%d文本数量 - %0.3fMB (训练数据集)\" % (len(data_train.data), data_train_size_mb))\n",
    "print(\"%d文本数量 - %0.3fMB (测试数据集)\" % (len(data_test.data), data_test_size_mb))\n",
    "print u'训练集和测试集使用的%d个类别的名称：' % len(categories)\n",
    "print(categories)"
   ]
  },
  {
   "cell_type": "code",
   "execution_count": 18,
   "metadata": {
    "collapsed": true
   },
   "outputs": [],
   "source": [
    "x_train = data_train.data\n",
    "y_train = data_train.target\n",
    "x_test = data_test.data\n",
    "y_test = data_test.target"
   ]
  },
  {
   "cell_type": "code",
   "execution_count": 19,
   "metadata": {
    "collapsed": false,
    "scrolled": true
   },
   "outputs": [
    {
     "name": "stdout",
     "output_type": "stream",
     "text": [
      " -- 前5个文本 -- \n",
      "文本1(属于类别 - alt.atheism)：\n",
      "If one is a vegan (a vegetarian taht eats no animal products at at i.e eggs, \n",
      "milk, cheese, etc., after about 3 years of a vegan diet, you need to start \n",
      "taking B12 supplements because b12 is found only in animals.) Acutally our \n",
      "bodies make B12, I think, but our bodies use up our own B12 after 2 or 3 \n",
      "years.  \n",
      "Lacto-oveo vegetarians, like myself, still get B12 through milk products \n",
      "and eggs, so we don't need supplements.\n",
      "And If anyone knows more, PLEASE post it.  I'm nearly contridicting myself \n",
      "with the mish-mash of knowledge I've gleaned.\n",
      "\n",
      "\n",
      "\n",
      "文本2(属于类别 - comp.graphics)：\n",
      "Hi,\n",
      "         I have a friend who is working on 2-d and 3-d object recognition. He is looking\n",
      "for references describing algorithms on the following subject areas:\n",
      "\n",
      "Thresholding\n",
      "Edge Segmentation\n",
      "Marr-Hildreth\n",
      "Sobel Operator\n",
      "Chain Codes\n",
      "Thinning - Skeletonising\n",
      "\n",
      "If anybody is willing to post an algorithm that they have implemented which demonstrates\n",
      "any of the above topics, it would be much appreciated.\n",
      "\n",
      "Please post all replies to my e-mail address. If requested I will post a summary to the\n",
      "newsgroup in a couple of weeks.\n",
      "\n",
      "\n",
      "Thanks in advance for all replies\n",
      "\n",
      "\n",
      "\n",
      "文本3(属于类别 - comp.graphics)：\n",
      "Hello netters\n",
      "\n",
      "Sorry, I don't know if this is the right way of doing this kind of thing,\n",
      "probably should be a CFV, but since I don't have tha ability to create a \n",
      "news group myself, I just want to start the discussion. \n",
      "\n",
      "I enjoy reading c.g very much, but I often find it difficult to sort out what\n",
      "I'm interested in. Everything from screen-drivers, graphics cards, graphics\n",
      "programming and graphics programs are discused here. What I'd like is a \n",
      "comp.graphics.programmer news group.\n",
      "What do you other think.\n",
      "\n",
      "\n",
      "\n",
      "\n",
      "文本4(属于类别 - comp.graphics)：\n",
      "\n",
      "Yes, I did punch in the wrong numbers (working too many late nites).  I\n",
      "intended on stating 640x400 is 256,000 bytes.  It's not in the bios, just my\n",
      "VESA TSR.\n",
      "\n",
      "\n",
      "\n",
      "\n",
      "文本5(属于类别 - talk.religion.misc)：\n",
      "\n",
      "\n",
      "\n",
      "\n",
      "Well, I am not Andy, but if you had familiarized yourself with some of\n",
      "the current theories/hypotheses about abiogenesis before posting :-), you\n",
      "would be aware of the fact that none of them claims that proteins were\n",
      "assembled randomly from amino acids. It is current thinking that RNA-\n",
      "based replicators came before proteinaceous enzymes, and that proteins\n",
      "were assembled by some kind of primitive translation machinery.\n",
      "\n",
      "Now respond to 2. :-)\n",
      "--Cornelius.\n",
      "\n",
      "\n",
      "\n"
     ]
    }
   ],
   "source": [
    "print u' -- 前5个文本 -- '\n",
    "for i in range(5):\n",
    "    print u'文本%d(属于类别 - %s)：' % (i+1, categories[y_train[i]])\n",
    "    print x_train[i]\n",
    "    print '\\n\\n'"
   ]
  },
  {
   "cell_type": "code",
   "execution_count": 20,
   "metadata": {
    "collapsed": false,
    "scrolled": false
   },
   "outputs": [
    {
     "name": "stdout",
     "output_type": "stream",
     "text": [
      "训练集样本个数：2034，特征个数：26576\n",
      "停止词:\n",
      "frozenset(['all', 'six', 'less', 'being', 'indeed', 'over', 'move', 'anyway', 'fifty', 'four', 'not', 'own', 'through', 'yourselves', 'go', 'where', 'mill', 'only', 'find', 'before', 'one', 'whose', 'system', 'how', 'somewhere', 'with', 'thick', 'show', 'had', 'enough', 'should', 'to', 'must', 'whom', 'seeming', 'under', 'ours', 'has', 'might', 'thereafter', 'latterly', 'do', 'them', 'his', 'around', 'than', 'get', 'very', 'de', 'none', 'cannot', 'every', 'whether', 'they', 'front', 'during', 'thus', 'now', 'him', 'nor', 'name', 'several', 'hereafter', 'always', 'who', 'cry', 'whither', 'this', 'someone', 'either', 'each', 'become', 'thereupon', 'sometime', 'side', 'two', 'therein', 'twelve', 'because', 'often', 'ten', 'our', 'eg', 'some', 'back', 'up', 'namely', 'towards', 'are', 'further', 'beyond', 'ourselves', 'yet', 'out', 'even', 'will', 'what', 'still', 'for', 'bottom', 'mine', 'since', 'please', 'forty', 'per', 'its', 'everything', 'behind', 'un', 'above', 'between', 'it', 'neither', 'seemed', 'ever', 'across', 'she', 'somehow', 'be', 'we', 'full', 'never', 'sixty', 'however', 'here', 'otherwise', 'were', 'whereupon', 'nowhere', 'although', 'found', 'alone', 're', 'along', 'fifteen', 'by', 'both', 'about', 'last', 'would', 'anything', 'via', 'many', 'could', 'thence', 'put', 'against', 'keep', 'etc', 'amount', 'became', 'ltd', 'hence', 'onto', 'or', 'con', 'among', 'already', 'co', 'afterwards', 'formerly', 'within', 'seems', 'into', 'others', 'while', 'whatever', 'except', 'down', 'hers', 'everyone', 'done', 'least', 'another', 'whoever', 'moreover', 'couldnt', 'throughout', 'anyhow', 'yourself', 'three', 'from', 'her', 'few', 'together', 'top', 'there', 'due', 'been', 'next', 'anyone', 'eleven', 'much', 'call', 'therefore', 'interest', 'then', 'thru', 'themselves', 'hundred', 'was', 'sincere', 'empty', 'more', 'himself', 'elsewhere', 'mostly', 'on', 'fire', 'am', 'becoming', 'hereby', 'amongst', 'else', 'part', 'everywhere', 'too', 'herself', 'former', 'those', 'he', 'me', 'myself', 'made', 'twenty', 'these', 'bill', 'cant', 'us', 'until', 'besides', 'nevertheless', 'below', 'anywhere', 'nine', 'can', 'of', 'toward', 'my', 'something', 'and', 'whereafter', 'whenever', 'give', 'almost', 'wherever', 'is', 'describe', 'beforehand', 'herein', 'an', 'as', 'itself', 'at', 'have', 'in', 'seem', 'whence', 'ie', 'any', 'fill', 'again', 'hasnt', 'inc', 'thereby', 'thin', 'no', 'perhaps', 'latter', 'meanwhile', 'when', 'detail', 'same', 'wherein', 'beside', 'also', 'that', 'other', 'take', 'which', 'becomes', 'you', 'if', 'nobody', 'see', 'though', 'may', 'after', 'upon', 'most', 'hereupon', 'eight', 'but', 'serious', 'nothing', 'such', 'your', 'why', 'a', 'off', 'whereby', 'third', 'i', 'whole', 'noone', 'sometimes', 'well', 'amoungst', 'yours', 'their', 'rather', 'without', 'so', 'five', 'the', 'first', 'whereas', 'once'])\n"
     ]
    }
   ],
   "source": [
    "vectorizer = TfidfVectorizer(input='content', stop_words='english', max_df=0.5, sublinear_tf=True)\n",
    "x_train = vectorizer.fit_transform(data_train.data)  # x_train是稀疏的，scipy.sparse.csr.csr_matrix\n",
    "x_test = vectorizer.transform(data_test.data)\n",
    "print u'训练集样本个数：%d，特征个数：%d' % x_train.shape\n",
    "print u'停止词:\\n',\n",
    "print(vectorizer.get_stop_words())\n",
    "\n",
    "feature_names = np.asarray(vectorizer.get_feature_names())"
   ]
  },
  {
   "cell_type": "code",
   "execution_count": 21,
   "metadata": {
    "collapsed": true
   },
   "outputs": [],
   "source": [
    "ch2 = SelectKBest(chi2, k=1000)\n",
    "x_train = ch2.fit_transform(x_train, y_train)\n",
    "x_test = ch2.transform(x_test)\n",
    "feature_names = [feature_names[i] for i in ch2.get_support(indices=True)]"
   ]
  },
  {
   "cell_type": "code",
   "execution_count": 22,
   "metadata": {
    "collapsed": false,
    "scrolled": false
   },
   "outputs": [
    {
     "name": "stdout",
     "output_type": "stream",
     "text": [
      "分类器的比较：\n",
      "\n",
      "分类器： RidgeClassifier(alpha=1.0, class_weight=None, copy_X=True, fit_intercept=True,\n",
      "        max_iter=None, normalize=False, random_state=None, solver='auto',\n",
      "        tol=0.001)\n",
      "5折交叉验证的训练时间为：5.988秒/(5*10)=0.120秒\n",
      "最优超参数为： {'alpha': 0.46415888336127775}\n",
      "测试时间：0.001秒\n",
      "训练集准确率：92.63%\n",
      "测试集准确率：75.76%\n",
      "\n",
      "\n",
      "分类器： KNeighborsClassifier(algorithm='auto', leaf_size=30, metric='minkowski',\n",
      "           metric_params=None, n_jobs=1, n_neighbors=5, p=2,\n",
      "           weights='uniform')\n",
      "5折交叉验证的训练时间为：2.745秒/(5*14)=0.039秒\n",
      "最优超参数为： {'n_neighbors': 1}\n",
      "测试时间：0.103秒\n",
      "训练集准确率：96.51%\n",
      "测试集准确率：50.55%\n",
      "\n",
      "\n",
      "分类器： MultinomialNB(alpha=1.0, class_prior=None, fit_prior=True)\n",
      "5折交叉验证的训练时间为：0.336秒/(5*10)=0.007秒\n",
      "最优超参数为： {'alpha': 0.01}\n",
      "测试时间：0.004秒\n",
      "训练集准确率：91.40%\n",
      "测试集准确率：76.72%\n",
      "\n",
      "\n",
      "分类器： BernoulliNB(alpha=1.0, binarize=0.0, class_prior=None, fit_prior=True)\n",
      "5折交叉验证的训练时间为：0.360秒/(5*10)=0.007秒\n",
      "最优超参数为： {'alpha': 0.01}\n",
      "测试时间：0.003秒\n",
      "训练集准确率：88.64%\n",
      "测试集准确率：74.28%\n",
      "\n",
      "\n",
      "分类器： RandomForestClassifier(bootstrap=True, class_weight=None, criterion='gini',\n",
      "            max_depth=None, max_features='auto', max_leaf_nodes=None,\n",
      "            min_impurity_split=1e-07, min_samples_leaf=1,\n",
      "            min_samples_split=2, min_weight_fraction_leaf=0.0,\n",
      "            n_estimators=200, n_jobs=1, oob_score=False, random_state=None,\n",
      "            verbose=0, warm_start=False)\n",
      "5折交叉验证的训练时间为：36.936秒/(5*6)=1.231秒\n",
      "最优超参数为： {'max_depth': 9}\n",
      "测试时间：0.215秒\n",
      "训练集准确率：75.47%\n",
      "测试集准确率：67.48%\n",
      "\n",
      "\n",
      "分类器： SVC(C=1.0, cache_size=200, class_weight=None, coef0=0.0,\n",
      "  decision_function_shape=None, degree=3, gamma='auto', kernel='rbf',\n",
      "  max_iter=-1, probability=False, random_state=None, shrinking=True,\n",
      "  tol=0.001, verbose=False)\n",
      "5折交叉验证的训练时间为：21.720秒/(5*9)=0.483秒\n",
      "最优超参数为： {'C': 100.0, 'gamma': 0.031622776601683791}\n",
      "测试时间：0.248秒\n",
      "训练集准确率：93.36%\n",
      "测试集准确率：73.54%\n",
      "\n",
      "\n",
      "分类器： LinearSVC(C=1.0, class_weight=None, dual=False, fit_intercept=True,\n",
      "     intercept_scaling=1, loss='squared_hinge', max_iter=1000,\n",
      "     multi_class='ovr', penalty='l1', random_state=None, tol=0.0001,\n",
      "     verbose=0)\n",
      "5折交叉验证的训练时间为：10.143秒/(5*3)=0.676秒\n",
      "最优超参数为： {'C': 10.0}\n",
      "测试时间：0.001秒\n",
      "训练集准确率：96.31%\n",
      "测试集准确率：72.36%\n",
      "\n",
      "\n",
      "分类器： LinearSVC(C=1.0, class_weight=None, dual=False, fit_intercept=True,\n",
      "     intercept_scaling=1, loss='squared_hinge', max_iter=1000,\n",
      "     multi_class='ovr', penalty='l2', random_state=None, tol=0.0001,\n",
      "     verbose=0)\n",
      "5折交叉验证的训练时间为：1.454秒/(5*3)=0.097秒\n",
      "最优超参数为： {'C': 10.0}\n",
      "测试时间：0.001秒\n",
      "训练集准确率：95.48%\n",
      "测试集准确率：74.58%\n",
      "\n",
      "\n"
     ]
    }
   ],
   "source": [
    "print u'分类器的比较：\\n'\n",
    "clfs = [\n",
    "    [RidgeClassifier(), 'Ridge'],\n",
    "    [KNeighborsClassifier(), 'KNN'],\n",
    "    [MultinomialNB(), 'MultinomialNB'],\n",
    "    [BernoulliNB(), 'BernoulliNB'],\n",
    "    [RandomForestClassifier(n_estimators=200), 'RandomForest'],\n",
    "    [SVC(), 'SVM'],\n",
    "    [LinearSVC(loss='squared_hinge', penalty='l1', dual=False, tol=1e-4), 'LinearSVC-l1'],\n",
    "    [LinearSVC(loss='squared_hinge', penalty='l2', dual=False, tol=1e-4), 'LinearSVC-l2']\n",
    "]\n",
    "\n",
    "\n",
    "result = []\n",
    "for clf,name in clfs:\n",
    "    a = benchmark(clf,name)\n",
    "    result.append(a)\n",
    "    print '\\n'\n",
    "\n",
    "result = np.array(result)"
   ]
  },
  {
   "cell_type": "code",
   "execution_count": 23,
   "metadata": {
    "collapsed": false
   },
   "outputs": [],
   "source": [
    "result = [[x[i] for x in result] for i in range(5)]\n",
    "training_time, test_time, training_err, test_err, clf_names = result\n",
    "\n",
    "training_time = np.array(training_time).astype(np.float)\n",
    "test_time = np.array(test_time).astype(np.float)\n",
    "training_err = np.array(training_err).astype(np.float)\n",
    "test_err = np.array(test_err).astype(np.float)"
   ]
  },
  {
   "cell_type": "code",
   "execution_count": 24,
   "metadata": {
    "collapsed": false
   },
   "outputs": [
    {
     "data": {
      "image/png": "[encoded data removed]",
      "text/plain": [
       "<matplotlib.figure.Figure at 0x16064390>"
      ]
     },
     "metadata": {},
     "output_type": "display_data"
    }
   ],
   "source": [
    "x = np.arange(len(training_time))\n",
    "plt.figure(figsize=(10, 7), facecolor='w')\n",
    "ax = plt.axes()\n",
    "b0 = ax.bar(x+0.1, training_err, width=0.2, color='#77E0A0')\n",
    "b1 = ax.bar(x+0.3, test_err, width=0.2, color='#8800FF')\n",
    "ax2 = ax.twinx()\n",
    "b2 = ax2.bar(x+0.5, training_time, width=0.2, color='#FFA0A0')\n",
    "b3 = ax2.bar(x+0.7, test_time, width=0.2, color='#FF8080')\n",
    "plt.xticks(x+0.5, clf_names)\n",
    "plt.legend([b0[0], b1[0], b2[0], b3[0]], (u'训练集错误率', u'测试集错误率', u'训练时间', u'测试时间'), loc='upper left', shadow=True)\n",
    "plt.title(u'新闻组文本数据分类及不同分类器效果比较', fontsize=18)\n",
    "plt.xlabel(u'分类器名称')\n",
    "plt.grid(True)\n",
    "plt.tight_layout(2)\n",
    "plt.show()"
   ]
  },
  {
   "cell_type": "code",
   "execution_count": null,
   "metadata": {
    "collapsed": true
   },
   "outputs": [],
   "source": []
  }
 ],
 "metadata": {
  "kernelspec": {
   "display_name": "Python 2",
   "language": "python",
   "name": "python2"
  },
  "language_info": {
   "codemirror_mode": {
    "name": "ipython",
    "version": 2
   },
   "file_extension": ".py",
   "mimetype": "text/x-python",
   "name": "python",
   "nbconvert_exporter": "python",
   "pygments_lexer": "ipython2",
   "version": "2.7.13"
  }
 },
 "nbformat": 4,
 "nbformat_minor": 0
}
